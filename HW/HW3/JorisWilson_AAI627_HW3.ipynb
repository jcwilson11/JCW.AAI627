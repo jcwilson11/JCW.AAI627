{
 "cells": [
  {
   "cell_type": "markdown",
   "id": "a664d537",
   "metadata": {},
   "source": [
    "Problem 1:  \n",
    "\n",
    "Justify if the blow statements are TRUE or FALSE. \n",
    "a. For a stationary AR(1) time series x(t),  x(t) is uncorrelated to x(t-l) for l>=2. \n",
    "- This statement is FALSE becuase it is claiming that after taking steps back (like two days of observed data back) the correlation no longer exists. However, in a stationary AR(1) time series, 𝑥(𝑡) remains correlated with all its past values, not just the immediately preceding one\n",
    "\n",
    "b. For a stationary MA(1) time series x(t), you will observe the ACF values cliff after time lag l>=2 in the ACF plot. \n",
    "- This statement is TRUE because it correctly describes how ACF behaves for a stationary MA(1) time series. In an MA(1), x(t) only depends on the current and the previous random shocks, so any values more than one step apart share no common randomness. Therefore you will see the values “cliff” or drop sharply to zero for lags"
   ]
  }
 ],
 "metadata": {
  "language_info": {
   "name": "python"
  }
 },
 "nbformat": 4,
 "nbformat_minor": 5
}
