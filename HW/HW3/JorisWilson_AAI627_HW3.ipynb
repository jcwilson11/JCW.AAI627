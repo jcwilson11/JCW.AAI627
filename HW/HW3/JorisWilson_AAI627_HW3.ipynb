{
 "cells": [
  {
   "cell_type": "markdown",
   "id": "a664d537",
   "metadata": {},
   "source": [
    "Problem 1:  \n",
    "Justify if the blow statements are TRUE or FALSE. \n",
    "a. For a stationary AR(1) time series x(t),  x(t) is uncorrelated to x(t-l) for l>=2. \n",
    "b. For a stationary MA(1) time series x(t), you will observe the ACF values cliff after time lag l>=2 in the ACF plot. "
   ]
  }
 ],
 "metadata": {
  "language_info": {
   "name": "python"
  }
 },
 "nbformat": 4,
 "nbformat_minor": 5
}
